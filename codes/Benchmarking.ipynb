{
 "cells": [
  {
   "cell_type": "markdown",
   "metadata": {},
   "source": [
    "# Background"
   ]
  },
  {
   "cell_type": "markdown",
   "metadata": {},
   "source": [
    "This notebook is dedicated to benchmark tools for specificity chek of probes designed by PLP_directRNA_probe pipeline. Here we test three tools:\n",
    "- [x] `cutadapt`  \n",
    "- [x] `bwa`  \n",
    "- [x] `blat`  \n",
    "\n",
    "To do the analysis please make sure dataset (probes + transcriptome sequences) delivered on 24th October 2024."
   ]
  },
  {
   "cell_type": "markdown",
   "metadata": {},
   "source": [
    "Loading reauired libraries:"
   ]
  },
  {
   "cell_type": "code",
   "execution_count": 1,
   "metadata": {},
   "outputs": [],
   "source": [
    "import pandas as pd\n",
    "from matplotlib_venn import venn3\n",
    "import matplotlib.pyplot as plt\n",
    "import logomaker\n",
    "import numpy as np\n",
    "import subprocess\n"
   ]
  },
  {
   "cell_type": "markdown",
   "metadata": {},
   "source": [
    "## cutadapt"
   ]
  },
  {
   "cell_type": "markdown",
   "metadata": {},
   "source": [
    "This resut is based on output of the workflow. Loading designed probes reported by PLP_directRNA_design workdlow."
   ]
  },
  {
   "cell_type": "code",
   "execution_count": null,
   "metadata": {
    "vscode": {
     "languageId": "shellscript"
    }
   },
   "outputs": [],
   "source": [
    "cd mouse_sch_mouse\n",
    "sed 's/,/\\t/g' mapped_sequences*csv | grep -v Position | awk '{OFS=\"\\t\";print$4\"-\"$5,$9,length($6)\"M\",\"NM:i:0\"}'  |sed 's/\\\".*EN/EN/' >mapped_sequences_1_2_cutadapt.out "
   ]
  },
  {
   "cell_type": "markdown",
   "metadata": {},
   "source": [
    "Loading `cutadapt` (or workflow output) and renaming the columns and removing duplicated hits"
   ]
  },
  {
   "cell_type": "code",
   "execution_count": 2,
   "metadata": {},
   "outputs": [],
   "source": [
    "cutadapt = pd.read_table('mouse_sch_mouse/mapped_sequences_1_2_cutadapt.out', header=None)\n",
    "cutadapt.columns = ['Probe', 'Target', 'Matches', 'Mismatches']\n",
    "cutadapt['Probe_Target'] = cutadapt['Probe'] + '_' + cutadapt['Target']\n",
    "cutadapt = cutadapt[~cutadapt['Probe_Target'].duplicated()]"
   ]
  },
  {
   "cell_type": "markdown",
   "metadata": {},
   "source": [
    "## Preparing fasta sequences\n",
    "converting `specific_targets_final.csv` to fasta:"
   ]
  },
  {
   "cell_type": "markdown",
   "metadata": {},
   "source": [
    "- mouse specific final, identical sequences?:\n",
    "```\n",
    "3       2       2       Acta2   27      GAGACGCTGCTCCAGCTATGTGTGAAGAGG\n",
    "13      2       2       Acta2   27      GAGACGCTGCTCCAGCTATGTGTGAAGAGG\n",
    "20      11      11      Gfap    34      GCAGAGAACAACCTGGCTGCGTATAGACAG\n",
    "```"
   ]
  },
  {
   "cell_type": "code",
   "execution_count": null,
   "metadata": {
    "vscode": {
     "languageId": "shellscript"
    }
   },
   "outputs": [],
   "source": [
    "sed 's/,/\\t/g' specific_targets_final.csv | tail -n +2  | awk '{print \">\"$4\"-\"NR\"\\n\"$6}' >specific_targets_final.fa  \n",
    "sed 's/,/\\t/g' mapped_sequences*csv  | grep -v \"Sequence\"   | awk '{print \">\"$4\"-\"$5\"\\n\"$6}' >mapped_sequences_1_2.fa  "
   ]
  },
  {
   "cell_type": "markdown",
   "metadata": {},
   "source": [
    "## `BWA`  "
   ]
  },
  {
   "cell_type": "markdown",
   "metadata": {},
   "source": [
    "We first convert the final list which is a tabular to fasta format"
   ]
  },
  {
   "cell_type": "markdown",
   "metadata": {},
   "source": [
    "Indexing the reference"
   ]
  },
  {
   "cell_type": "code",
   "execution_count": null,
   "metadata": {
    "vscode": {
     "languageId": "shellscript"
    }
   },
   "outputs": [],
   "source": [
    "bwa index Mus_musculus.GRCm39.cdna.all.fa"
   ]
  },
  {
   "cell_type": "markdown",
   "metadata": {},
   "source": [
    "Align sequences in `specific_targets_final.fa` to the reference `Mus_musculus.GRCm39.cdna.all.fa`    \n",
    "**Options:**  \n",
    "-o 0: Disable gaps (no insertions or deletions allowed).  \n",
    "-n 6: Allow up to 6 mismatches in the alignment.  \n",
    "-l 30: Use a seed length of 30 nucleotides for alignment.  "
   ]
  },
  {
   "cell_type": "code",
   "execution_count": null,
   "metadata": {
    "vscode": {
     "languageId": "shellscript"
    }
   },
   "outputs": [],
   "source": [
    "bwa aln -o 0 -n 6 -l 30 Mus_musculus.GRCm39.cdna.all.fa specific_targets_final.fa >specific_targets_final.sai"
   ]
  },
  {
   "cell_type": "markdown",
   "metadata": {},
   "source": [
    "Convert the alignment output (.sai) into a SAM file format.  \n",
    "**Options:**  \n",
    "-n 10: Report up to 10 alignments for reads that align to multiple locations.  \n",
    "-f specific_targets_final.sam: Write the output to `specific_targets_final.sam`.  "
   ]
  },
  {
   "cell_type": "code",
   "execution_count": null,
   "metadata": {
    "vscode": {
     "languageId": "shellscript"
    }
   },
   "outputs": [],
   "source": [
    "bwa samse -n 10   Mus_musculus.GRCm39.cdna.all.fa specific_targets_final.sai specific_targets_final.fa | grep -v '^@' | awk '{OFS=\"\\t\"; print $1,$3,$6,$13}' >specific_targets_final_bwa.out"
   ]
  },
  {
   "cell_type": "markdown",
   "metadata": {},
   "source": [
    "For `mapped_sequence_[1,2].csv`  "
   ]
  },
  {
   "cell_type": "code",
   "execution_count": null,
   "metadata": {
    "vscode": {
     "languageId": "shellscript"
    }
   },
   "outputs": [],
   "source": [
    "bwa aln -o 0 -n 6 -l 30 Mus_musculus.GRCm39.cdna.all.fa mapped_sequences_1_2.fa >mapped_sequences_1_2.sai\n",
    "bwa samse -n 10 Mus_musculus.GRCm39.cdna.all.fa mapped_sequences_1_2.sai mapped_sequences_1_2.fa | grep -v '^@' | awk '{OFS=\"\\t\"; print $1,$3,$6,$13}' >mapped_sequences_1_2_bwa.out"
   ]
  },
  {
   "cell_type": "markdown",
   "metadata": {},
   "source": [
    "Loading `BWA` and renaming the columns and removing duplicated hits"
   ]
  },
  {
   "cell_type": "code",
   "execution_count": 3,
   "metadata": {},
   "outputs": [],
   "source": [
    "bwa = pd.read_table('mouse_sch_mouse/mapped_sequences_1_2_bwa.out', header=None)\n",
    "bwa.columns = ['Probe', 'Target', 'Matches', 'Mismatches']\n",
    "bwa['Probe_Target'] = bwa['Probe'] + '_' + bwa['Target']\n",
    "bwa = bwa[~bwa['Probe_Target'].duplicated()]"
   ]
  },
  {
   "cell_type": "markdown",
   "metadata": {},
   "source": [
    "## `blat`  "
   ]
  },
  {
   "cell_type": "markdown",
   "metadata": {},
   "source": [
    "You should be able to run blat in the docker image without any installation.  \n",
    "Please note that in following lines different settings and different reference (subjects) have been used (human or mouse).   \n",
    "\n",
    "**NOTE: Please use the sequences delivered on 24th of October.**  "
   ]
  },
  {
   "cell_type": "code",
   "execution_count": null,
   "metadata": {
    "vscode": {
     "languageId": "shellscript"
    }
   },
   "outputs": [],
   "source": [
    "blat -noHead -t=dna -q=dna Mus_musculus.GRCm39.cdna.all.fa mapped_sequences_1_2.fa mapped_sequences_1_2_Mus.psl\n",
    "# To human\n",
    "blat -noHead -t=dna -q=dna -tileSize=8 -minIdentity=80 -oneOff=4 -minScore=15  ../human_sch_human/GRCh38_latest_rna.fna specific_targets_final.fa specific_targets_final_human_minIdentity_80_tileSize_8_oneOff_4_minScore_15.psl\n",
    "blat -noHead -t=dna -q=dna -tileSize=8 -minIdentity=80 -oneOff=4 -minScore=15 -maxIntron=0  -out=pslx ../human_sch_human/GRCh38_latest_rna.fna specific_targets_final.fa specific_targets_final_human_minIdentity_80_tileSize_8_oneOff_4_minScore_15_maxIntron_0.psl \n",
    "# tile = 11 (default) & 0 mismatches in each tile & minIdentity 80%\n",
    "blat -noHead -t=dna -q=dna -tileSize=11 -minIdentity=80 -oneOff=0 -minScore=15 -maxIntron=0  -out=pslx ../human_sch_human/GRCh38_latest_rna.fna specific_targets_final.fa specific_targets_final_human_minIdentity_80_tileSize_11_oneOff_0_minScore_15_maxIntron_0.pslx \n",
    "# tile = 8 & 4 mismatches in each tile & minIdentity 80%\n",
    "blat -noHead -t=dna -q=dna -tileSize=8 -minIdentity=80 -oneOff=4 -minScore=15 -maxIntron=0  -out=pslx ../human_sch_human/GRCh38_latest_rna.fna specific_targets_final.fa specific_targets_final_human_minIdentity_80_tileSize_8_oneOff_4_minScore_15_maxIntron_0.pslx \n",
    "# tile = 8 & 6 mismatches in each tile & minIdentity 80%\n",
    "blat -noHead -t=dna -q=dna -tileSize=8 -minIdentity=80 -oneOff=6 -minScore=15 -maxIntron=0  -out=pslx ../human_sch_human/GRCh38_latest_rna.fna specific_targets_final.fa specific_targets_final_human_minIdentity_80_tileSize_8_oneOff_6_minScore_15_maxIntron_0.pslx "
   ]
  },
  {
   "cell_type": "markdown",
   "metadata": {},
   "source": [
    "Loading `blat` and renaming the columns"
   ]
  },
  {
   "cell_type": "code",
   "execution_count": null,
   "metadata": {
    "vscode": {
     "languageId": "shellscript"
    }
   },
   "outputs": [],
   "source": [
    "awk '{OFS=\"\\t\";print $10,$14,$1\"M\",\"NM:i:\"$2}' *psl >mapped_sequences_1_2_blat.out"
   ]
  },
  {
   "cell_type": "code",
   "execution_count": 4,
   "metadata": {},
   "outputs": [],
   "source": [
    "blat = pd.read_table('mouse_sch_mouse/mapped_sequences_1_2_blat.out', header=None)\n",
    "blat.columns = ['Probe', 'Target', 'Matches', 'Mismatches']\n",
    "blat['Probe_Target'] = blat['Probe'] + '_' + blat['Target']\n",
    "blat = blat[~blat['Probe_Target'].duplicated()]"
   ]
  },
  {
   "cell_type": "markdown",
   "metadata": {},
   "source": [
    "## Summarising the results (`cutadapt`, `BWA`, `blat`)"
   ]
  },
  {
   "cell_type": "code",
   "execution_count": 5,
   "metadata": {},
   "outputs": [
    {
     "data": {
      "text/plain": [
       "<function matplotlib.pyplot.show(close=None, block=None)>"
      ]
     },
     "execution_count": 5,
     "metadata": {},
     "output_type": "execute_result"
    },
    {
     "data": {
      "image/png": "[encoded data removed]",
      "text/plain": [
       "<Figure size 640x480 with 1 Axes>"
      ]
     },
     "metadata": {},
     "output_type": "display_data"
    }
   ],
   "source": [
    "from matplotlib_venn import venn3\n",
    "import matplotlib.pyplot as plt\n",
    "cutadapt_with_matches = cutadapt[cutadapt['Target'] != '[]'] # Removing queries without match\n",
    "bwa_with_matches = bwa[bwa['Target'] != '*'] # Removing queries without match\n",
    "\n",
    "\n",
    "cutadapt_set = set(cutadapt_with_matches['Probe_Target'])\n",
    "bwa_set = set(bwa_with_matches['Probe_Target'])\n",
    "blat_set = set(blat['Probe_Target'])\n",
    "venn3([cutadapt_set, bwa_set, blat_set], ('cutadapt', 'bwa', 'blat'))\n",
    "plt.title('Overlap of Probe_Target different approaches: cutadapt, bwa, blat')\n",
    "plt.show"
   ]
  },
  {
   "cell_type": "markdown",
   "metadata": {},
   "source": [
    "- What is reported by cutadapt but missing from bwa/blat\n",
    "\n",
    "```\n",
    "                       Probe_Target  Cutadapt  Blat  BWA\n",
    "0    Acta2-507_ENSMUST00000078717.7         1     0    0\n",
    "```\n",
    "Because of 6 mismatches? \n",
    "\n",
    "`ENSMUST00000078717.7` is \n",
    "`>ENSMUST00000078717.7 cdna chromosome:GRCm39:16:37688751:37709220:1 gene:ENSMUSG00000034158.10 gene_biotype:protein_coding transcript_biotype:protein_coding gene_symbol:Lrrc58 description:leucine rich repeat containing 58 [Source:MGI Symbol;Acc:MGI:2443542]`\n",
    "\n",
    "But when extracting `ENSMUST00000078717.7` from `mapped_sequence_[1.2].csv`:\n",
    "\n",
    "`transcript_biotype:protein_coding gene_symbol:Acta2 description:actin alpha 2` "
   ]
  },
  {
   "cell_type": "markdown",
   "metadata": {},
   "source": [
    "List of all matches"
   ]
  },
  {
   "cell_type": "code",
   "execution_count": 6,
   "metadata": {},
   "outputs": [
    {
     "name": "stdout",
     "output_type": "stream",
     "text": [
      "                       Probe_Target gene_name  Cutadapt  Blat  BWA\n",
      "0    Acta2-507_ENSMUST00000078717.7       NaN         1     0    0\n",
      "1    Acta2-242_ENSMUST00000078717.7       NaN         1     0    0\n",
      "2   Acta2-644_ENSMUST00000039631.10     Acta2         1     1    1\n",
      "3    Acta2-27_ENSMUST00000039631.10     Acta2         1     1    1\n",
      "4    Acta2-98_ENSMUST00000039631.10     Acta2         1     1    1\n",
      "5    Acta2-563_ENSMUST00000078717.7       NaN         1     0    0\n",
      "6   Acta2-353_ENSMUST00000039631.10     Acta2         1     1    1\n",
      "7    Acta2-592_ENSMUST00000078717.7       NaN         1     0    0\n",
      "8    Acta2-613_ENSMUST00000078717.7       NaN         1     0    0\n",
      "9    Acta2-480_ENSMUST00000078717.7       NaN         1     0    0\n",
      "10    Gfap-34_ENSMUST00000067444.10      Gfap         1     0    0\n",
      "11    Gfap-106_ENSMUST00000021453.6       NaN         1     0    0\n",
      "12   Acta2-507_ENSMUST00000238147.2     Acta2         0     1    1\n",
      "13   Acta2-353_ENSMUST00000238147.2     Acta2         0     1    1\n",
      "14    Gfap-106_ENSMUST00000077902.5      Gfap         0     1    0\n",
      "15    Gfap-106_ENSMUST00000127909.2      Ggap         0     1    1\n",
      "16     Gfap-34_ENSMUST00000077902.5      Gfap         0     1    1\n",
      "17   Acta2-480_ENSMUST00000238147.2     Acta2         0     1    1\n",
      "18   Acta2-613_ENSMUST00000238147.2     Acta2         0     1    1\n",
      "19  Acta2-592_ENSMUST00000039631.10     Acta2         0     1    1\n",
      "20   Acta2-592_ENSMUST00000238147.2     Acta2         0     1    1\n",
      "21  Acta2-563_ENSMUST00000039631.10     Acta2         0     1    1\n",
      "22  Acta2-507_ENSMUST00000039631.10     Acta2         0     1    1\n",
      "23   Acta2-563_ENSMUST00000238147.2     Acta2         0     1    1\n",
      "24    Acta2-98_ENSMUST00000238147.2     Acta2         0     1    1\n",
      "25   Acta2-644_ENSMUST00000238147.2     Acta2         0     1    0\n",
      "26  Acta2-242_ENSMUST00000039631.10     Acta2         0     1    1\n",
      "27   Acta2-242_ENSMUST00000238147.2     Acta2         0     1    1\n",
      "28   Gfap-106_ENSMUST00000067444.10      Gfap         0     1    0\n",
      "29    Acta2-27_ENSMUST00000238147.2     Acta2         0     0    1\n",
      "Cutadapt    12\n",
      "Blat        21\n",
      "BWA         19\n",
      "dtype: int64\n"
     ]
    }
   ],
   "source": [
    "# Gene table\n",
    "gene_table = pd.DataFrame({\n",
    "    \"gene_name\": [\"Acta2\", \"Acta2\", \"Ggap\", \"Gfap\", \"Gfap\"],\n",
    "    \"transcript_id\": [\n",
    "        \"ENSMUST00000039631.10\",\n",
    "        \"ENSMUST00000238147.2\",\n",
    "        \"ENSMUST00000127909.2\",\n",
    "        \"ENSMUST00000077902.5\",\n",
    "        \"ENSMUST00000067444.10\"\n",
    "    ]\n",
    "})\n",
    "\n",
    "\n",
    "\n",
    "# Count occurrences of `Probe_Target` in each DataFrame\n",
    "occ_cutadapt = cutadapt[cutadapt['Target'] != '[]']['Probe_Target'].value_counts().rename(\"Cutadapt\")\n",
    "occ_blat = blat['Probe_Target'].value_counts().rename(\"Blat\")\n",
    "occ_bwa = bwa[bwa['Target'] != '*']['Probe_Target'].value_counts().rename(\"BWA\")\n",
    "\n",
    "# Combine into a single DataFrame\n",
    "combined = pd.concat([occ_cutadapt, occ_blat, occ_bwa], axis=1).fillna(0)\n",
    "\n",
    "# Reset index to turn the index into a column\n",
    "combined = combined.reset_index().rename(columns={\"index\": \"Probe_Target\"})\n",
    "\n",
    "# Extract `transcript_id` from `Probe_Target`\n",
    "combined['transcript_id'] = combined['Probe_Target'].str.extract(r'(ENSMUST[0-9.]+)')\n",
    "\n",
    "# Merge with gene_table to add `gene_name`\n",
    "combined = pd.merge(combined, gene_table, on=\"transcript_id\", how=\"left\")\n",
    "\n",
    "\n",
    "# Convert counts to integers\n",
    "combined[['Cutadapt', 'Blat', 'BWA']] = combined[['Cutadapt', 'Blat', 'BWA']].astype(int)\n",
    "\n",
    "# Reorder columns to place `gene_name` after `Probe_Target`\n",
    "combined = combined[['Probe_Target','gene_name', 'Cutadapt', 'Blat', 'BWA']]\n",
    "\n",
    "\n",
    "# Display the result\n",
    "print(combined)\n",
    "print(combined[['Cutadapt', 'Blat', 'BWA']].sum(axis=0))"
   ]
  },
  {
   "cell_type": "markdown",
   "metadata": {},
   "source": [
    "Mouse vs human alinging sequences in `specific_targets_final.csv` to human by `blat`\n",
    "```\n",
    ">Acta2-27\n",
    "GAGACGCTGCTCCAGCTATGTGTGAAGAGG\n",
    ">Acta2-27\n",
    "GAGACGCTGCTCCAGCTATGTGTGAAGAGG\n",
    ">Gfap4-34\n",
    "GCAGAGAACAACCTGGCTGCGTATAGACAG\n",
    "\n",
    "   ACTIONS                 QUERY    SCORE START   END QSIZE IDENTITY  CHROM  STRAND  START       END   SPAN\n",
    "-------------------------------------------------------------------------------------------------------------\n",
    "browser new tab details Acta2-27    20     9    30    30    95.5%  chr10  -    88948918  88948939     22\n",
    "```\n",
    "\n",
    "**Conclusion**: _Gfap4_ seems to be specific to mouse but not _Acta_ probes as it results in hit. Saying that "
   ]
  },
  {
   "cell_type": "markdown",
   "metadata": {},
   "source": [
    "# Mismatch identification in `blat` output"
   ]
  },
  {
   "cell_type": "markdown",
   "metadata": {},
   "source": [
    "The following table shows selected (important) columns of blat output that we use for visualisation of mismatch positions. "
   ]
  },
  {
   "cell_type": "code",
   "execution_count": 12,
   "metadata": {},
   "outputs": [
    {
     "name": "stdout",
     "output_type": "stream",
     "text": [
      "awk 'BEGIN{OFS=\"\\t\"} {print $10,$14,$1,$2,$11,$1/$11,$12,$13,$22,$23}' /home/nima/Lee_2023/nima_dataset/mouse_sch_mouse/specific_targets_final_human_minIdentity_80_tileSize_11_oneOff_0_minScore_15_maxIntron_0.pslx > /home/nima/Lee_2023/nima_dataset/mouse_sch_mouse/specific_targets_final_human_minIdentity_80_tileSize_11_oneOff_0_minScore_15_maxIntron_0.pslx.out\n"
     ]
    },
    {
     "data": {
      "text/html": [
       "<div>\n",
       "<style scoped>\n",
       "    .dataframe tbody tr th:only-of-type {\n",
       "        vertical-align: middle;\n",
       "    }\n",
       "\n",
       "    .dataframe tbody tr th {\n",
       "        vertical-align: top;\n",
       "    }\n",
       "\n",
       "    .dataframe thead th {\n",
       "        text-align: right;\n",
       "    }\n",
       "</style>\n",
       "<table border=\"1\" class=\"dataframe\">\n",
       "  <thead>\n",
       "    <tr style=\"text-align: right;\">\n",
       "      <th></th>\n",
       "      <th>Query</th>\n",
       "      <th>Subject</th>\n",
       "      <th>Alignment_Length</th>\n",
       "      <th>Mismatches</th>\n",
       "      <th>Query_length</th>\n",
       "      <th>Alignment_perc</th>\n",
       "      <th>Query_start</th>\n",
       "      <th>Query_end</th>\n",
       "      <th>Query_seq</th>\n",
       "      <th>Subj_seq</th>\n",
       "    </tr>\n",
       "  </thead>\n",
       "  <tbody>\n",
       "    <tr>\n",
       "      <th>0</th>\n",
       "      <td>Acta22</td>\n",
       "      <td>NM_001406469.1</td>\n",
       "      <td>21</td>\n",
       "      <td>1</td>\n",
       "      <td>30</td>\n",
       "      <td>0,7</td>\n",
       "      <td>8</td>\n",
       "      <td>30</td>\n",
       "      <td>gctccagctatgtgtgaagagg,</td>\n",
       "      <td>gctccagctatgtgtgaagaag,</td>\n",
       "    </tr>\n",
       "    <tr>\n",
       "      <th>1</th>\n",
       "      <td>Acta22</td>\n",
       "      <td>NM_001406467.1</td>\n",
       "      <td>21</td>\n",
       "      <td>1</td>\n",
       "      <td>30</td>\n",
       "      <td>0,7</td>\n",
       "      <td>8</td>\n",
       "      <td>30</td>\n",
       "      <td>gctccagctatgtgtgaagagg,</td>\n",
       "      <td>gctccagctatgtgtgaagaag,</td>\n",
       "    </tr>\n",
       "    <tr>\n",
       "      <th>2</th>\n",
       "      <td>Acta22</td>\n",
       "      <td>NM_001406466.1</td>\n",
       "      <td>21</td>\n",
       "      <td>1</td>\n",
       "      <td>30</td>\n",
       "      <td>0,7</td>\n",
       "      <td>8</td>\n",
       "      <td>30</td>\n",
       "      <td>gctccagctatgtgtgaagagg,</td>\n",
       "      <td>gctccagctatgtgtgaagaag,</td>\n",
       "    </tr>\n",
       "    <tr>\n",
       "      <th>3</th>\n",
       "      <td>Acta22</td>\n",
       "      <td>NM_001320855.2</td>\n",
       "      <td>21</td>\n",
       "      <td>1</td>\n",
       "      <td>30</td>\n",
       "      <td>0,7</td>\n",
       "      <td>8</td>\n",
       "      <td>30</td>\n",
       "      <td>gctccagctatgtgtgaagagg,</td>\n",
       "      <td>gctccagctatgtgtgaagaag,</td>\n",
       "    </tr>\n",
       "    <tr>\n",
       "      <th>4</th>\n",
       "      <td>Acta23</td>\n",
       "      <td>NM_001613.4</td>\n",
       "      <td>21</td>\n",
       "      <td>1</td>\n",
       "      <td>30</td>\n",
       "      <td>0,7</td>\n",
       "      <td>8</td>\n",
       "      <td>30</td>\n",
       "      <td>gctccagctatgtgtgaagagg,</td>\n",
       "      <td>gctccagctatgtgtgaagaag,</td>\n",
       "    </tr>\n",
       "    <tr>\n",
       "      <th>5</th>\n",
       "      <td>Acta23</td>\n",
       "      <td>NM_001406469.1</td>\n",
       "      <td>21</td>\n",
       "      <td>1</td>\n",
       "      <td>30</td>\n",
       "      <td>0,7</td>\n",
       "      <td>8</td>\n",
       "      <td>30</td>\n",
       "      <td>gctccagctatgtgtgaagagg,</td>\n",
       "      <td>gctccagctatgtgtgaagaag,</td>\n",
       "    </tr>\n",
       "    <tr>\n",
       "      <th>6</th>\n",
       "      <td>Acta23</td>\n",
       "      <td>NM_001406467.1</td>\n",
       "      <td>21</td>\n",
       "      <td>1</td>\n",
       "      <td>30</td>\n",
       "      <td>0,7</td>\n",
       "      <td>8</td>\n",
       "      <td>30</td>\n",
       "      <td>gctccagctatgtgtgaagagg,</td>\n",
       "      <td>gctccagctatgtgtgaagaag,</td>\n",
       "    </tr>\n",
       "    <tr>\n",
       "      <th>7</th>\n",
       "      <td>Acta23</td>\n",
       "      <td>NM_001406466.1</td>\n",
       "      <td>21</td>\n",
       "      <td>1</td>\n",
       "      <td>30</td>\n",
       "      <td>0,7</td>\n",
       "      <td>8</td>\n",
       "      <td>30</td>\n",
       "      <td>gctccagctatgtgtgaagagg,</td>\n",
       "      <td>gctccagctatgtgtgaagaag,</td>\n",
       "    </tr>\n",
       "    <tr>\n",
       "      <th>8</th>\n",
       "      <td>Acta23</td>\n",
       "      <td>NM_001320855.2</td>\n",
       "      <td>21</td>\n",
       "      <td>1</td>\n",
       "      <td>30</td>\n",
       "      <td>0,7</td>\n",
       "      <td>8</td>\n",
       "      <td>30</td>\n",
       "      <td>gctccagctatgtgtgaagagg,</td>\n",
       "      <td>gctccagctatgtgtgaagaag,</td>\n",
       "    </tr>\n",
       "  </tbody>\n",
       "</table>\n",
       "</div>"
      ],
      "text/plain": [
       "    Query         Subject  Alignment_Length  Mismatches  Query_length  \\\n",
       "0  Acta22  NM_001406469.1                21           1            30   \n",
       "1  Acta22  NM_001406467.1                21           1            30   \n",
       "2  Acta22  NM_001406466.1                21           1            30   \n",
       "3  Acta22  NM_001320855.2                21           1            30   \n",
       "4  Acta23     NM_001613.4                21           1            30   \n",
       "5  Acta23  NM_001406469.1                21           1            30   \n",
       "6  Acta23  NM_001406467.1                21           1            30   \n",
       "7  Acta23  NM_001406466.1                21           1            30   \n",
       "8  Acta23  NM_001320855.2                21           1            30   \n",
       "\n",
       "  Alignment_perc  Query_start  Query_end                Query_seq  \\\n",
       "0            0,7            8         30  gctccagctatgtgtgaagagg,   \n",
       "1            0,7            8         30  gctccagctatgtgtgaagagg,   \n",
       "2            0,7            8         30  gctccagctatgtgtgaagagg,   \n",
       "3            0,7            8         30  gctccagctatgtgtgaagagg,   \n",
       "4            0,7            8         30  gctccagctatgtgtgaagagg,   \n",
       "5            0,7            8         30  gctccagctatgtgtgaagagg,   \n",
       "6            0,7            8         30  gctccagctatgtgtgaagagg,   \n",
       "7            0,7            8         30  gctccagctatgtgtgaagagg,   \n",
       "8            0,7            8         30  gctccagctatgtgtgaagagg,   \n",
       "\n",
       "                  Subj_seq  \n",
       "0  gctccagctatgtgtgaagaag,  \n",
       "1  gctccagctatgtgtgaagaag,  \n",
       "2  gctccagctatgtgtgaagaag,  \n",
       "3  gctccagctatgtgtgaagaag,  \n",
       "4  gctccagctatgtgtgaagaag,  \n",
       "5  gctccagctatgtgtgaagaag,  \n",
       "6  gctccagctatgtgtgaagaag,  \n",
       "7  gctccagctatgtgtgaagaag,  \n",
       "8  gctccagctatgtgtgaagaag,  "
      ]
     },
     "execution_count": 12,
     "metadata": {},
     "output_type": "execute_result"
    }
   ],
   "source": [
    "file_name = \"/home/nima/Lee_2023/nima_dataset/mouse_sch_mouse/specific_targets_final_human_minIdentity_80_tileSize_11_oneOff_0_minScore_15_maxIntron_0.pslx\"\n",
    "\n",
    "command = f\"\"\"awk 'BEGIN{{OFS=\"\\\\t\"}} {{print $10,$14,$1,$2,$11,$1/$11,$12,$13,$22,$23}}' {file_name} > {file_name}.out\"\"\"\n",
    "print(command)\n",
    "subprocess.run(command, shell=True, check=True, capture_output=True, text=True)\n",
    "\n",
    "blat_out = pd.read_table(f\"{file_name}.out\")\n",
    "blat_out.columns = ['Query', 'Subject', 'Alignment_Length', 'Mismatches', 'Query_length', 'Alignment_perc', 'Query_start', 'Query_end', 'Query_seq', 'Subj_seq']\n",
    "blat_out"
   ]
  },
  {
   "cell_type": "code",
   "execution_count": 13,
   "metadata": {},
   "outputs": [
    {
     "data": {
      "text/html": [
       "<div>\n",
       "<style scoped>\n",
       "    .dataframe tbody tr th:only-of-type {\n",
       "        vertical-align: middle;\n",
       "    }\n",
       "\n",
       "    .dataframe tbody tr th {\n",
       "        vertical-align: top;\n",
       "    }\n",
       "\n",
       "    .dataframe thead th {\n",
       "        text-align: right;\n",
       "    }\n",
       "</style>\n",
       "<table border=\"1\" class=\"dataframe\">\n",
       "  <thead>\n",
       "    <tr style=\"text-align: right;\">\n",
       "      <th></th>\n",
       "      <th>Query_seq</th>\n",
       "      <th>Subj_seq</th>\n",
       "      <th>Query</th>\n",
       "      <th>Subject</th>\n",
       "      <th>Alignment_Length</th>\n",
       "      <th>Mismatches</th>\n",
       "      <th>Query_length</th>\n",
       "      <th>Alignment_perc</th>\n",
       "      <th>Query_start</th>\n",
       "      <th>Query_end</th>\n",
       "    </tr>\n",
       "  </thead>\n",
       "  <tbody>\n",
       "    <tr>\n",
       "      <th>0</th>\n",
       "      <td>gctccagctatgtgtgaagagg</td>\n",
       "      <td>gctccagctatgtgtgaagaag</td>\n",
       "      <td>Acta22</td>\n",
       "      <td>NM_001406469.1</td>\n",
       "      <td>21</td>\n",
       "      <td>1</td>\n",
       "      <td>30</td>\n",
       "      <td>0,7</td>\n",
       "      <td>8</td>\n",
       "      <td>30</td>\n",
       "    </tr>\n",
       "  </tbody>\n",
       "</table>\n",
       "</div>"
      ],
      "text/plain": [
       "                Query_seq                Subj_seq   Query         Subject  \\\n",
       "0  gctccagctatgtgtgaagagg  gctccagctatgtgtgaagaag  Acta22  NM_001406469.1   \n",
       "\n",
       "   Alignment_Length  Mismatches  Query_length Alignment_perc  Query_start  \\\n",
       "0                21           1            30            0,7            8   \n",
       "\n",
       "   Query_end  \n",
       "0         30  "
      ]
     },
     "execution_count": 13,
     "metadata": {},
     "output_type": "execute_result"
    }
   ],
   "source": [
    "blat_out['Query_seq'] = blat_out['Query_seq'].str.replace(',', '')\n",
    "blat_out['Subj_seq'] = blat_out['Subj_seq'].str.replace(',', '')\n",
    "blat_out_unique = blat_out.groupby(['Query_seq', 'Subj_seq']).first().reset_index()\n",
    "blat_out_unique"
   ]
  },
  {
   "cell_type": "code",
   "execution_count": 14,
   "metadata": {},
   "outputs": [
    {
     "data": {
      "image/png": "[encoded data removed]",
      "text/plain": [
       "<Figure size 1000x250 with 1 Axes>"
      ]
     },
     "metadata": {},
     "output_type": "display_data"
    }
   ],
   "source": [
    "for i in range(0,blat_out_unique.shape[0]):\n",
    "    query_seq = np.array(list(blat_out_unique['Query_seq'][i].upper()))\n",
    "    subj_seq = np.array(list(blat_out_unique['Subj_seq'][i].upper()))\n",
    "    query_length = blat_out_unique['Query_length'][i]\n",
    "    query_start = blat_out_unique['Query_start'][i]\n",
    "    query_end = blat_out_unique['Query_end'][i]\n",
    "    base_counts = pd.DataFrame(0, index=np.arange(1, query_length), columns=[\"A\", \"T\", \"G\", \"C\"])\n",
    "    mismatch_pos = query_seq != subj_seq\n",
    "    padded_mismatch_pos = np.pad(\n",
    "        mismatch_pos, \n",
    "        (query_start, query_length - query_start - len(query_seq)), \n",
    "        constant_values=False\n",
    "    )\n",
    "\n",
    "    \n",
    "    for base in [\"A\", \"T\", \"G\", \"C\"]:\n",
    "        mismatch_indices = np.where(padded_mismatch_pos)[0]\n",
    "        base_counts.loc[mismatch_indices + 1, base] += (query_seq[mismatch_pos] == base).astype(int)\n",
    "    \n",
    "    crp_logo = logomaker.Logo(base_counts,\n",
    "                              shade_below=.5,\n",
    "                              fade_below=.5,)\n",
    "    \n",
    "    positions = np.where(mismatch_pos)[0] \n",
    "    positions_str = \", \".join(map(str, positions + query_start + 1))\n",
    "    \n",
    "    crp_logo.ax.set_title(\n",
    "    f\"{blat_out_unique['Query'][i]}_vs_{blat_out_unique['Subject'][i]} ({positions_str})\"\n",
    "    )"
   ]
  }
 ],
 "metadata": {
  "kernelspec": {
   "display_name": "Python 3 (ipykernel)",
   "language": "python",
   "name": "python3"
  },
  "language_info": {
   "codemirror_mode": {
    "name": "ipython",
    "version": 3
   },
   "file_extension": ".py",
   "mimetype": "text/x-python",
   "name": "python",
   "nbconvert_exporter": "python",
   "pygments_lexer": "ipython3",
   "version": "3.8.10"
  }
 },
 "nbformat": 4,
 "nbformat_minor": 4
}
